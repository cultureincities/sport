{
 "cells": [
  {
   "cell_type": "markdown",
   "metadata": {
    "colab_type": "text",
    "id": "aTL7ZIxrYRUc"
   },
   "source": [
    "#### Necessary Library"
   ]
  },
  {
   "cell_type": "code",
   "execution_count": 1,
   "metadata": {
    "colab": {
     "base_uri": "https://localhost:8080/",
     "height": 0
    },
    "colab_type": "code",
    "collapsed": true,
    "executionInfo": {
     "elapsed": 14629,
     "status": "ok",
     "timestamp": 1588587196397,
     "user": {
      "displayName": "Aude Vuilli",
      "photoUrl": "https://lh3.googleusercontent.com/a-/AOh14GiUkfbdAwPvNUHQL1AZAFfU9TjovFaEcEH05Kmz=s64",
      "userId": "08053235329720588301"
     },
     "user_tz": -60
    },
    "id": "VegpbBFuXV7i",
    "outputId": "6767a2db-a042-47c0-e8c5-e1095ea41ecc"
   },
   "outputs": [
    {
     "name": "stdout",
     "output_type": "stream",
     "text": [
      "Collecting pygsheets\n",
      "\u001b[?25l  Downloading https://files.pythonhosted.org/packages/9c/b3/72692b8ed92cd76bc2af8bffbf44e4456bf7b6d1628dcb9d3afbc3b54700/pygsheets-2.0.3.1-py3-none-any.whl (103kB)\n",
      "\r",
      "\u001b[K     |███▏                            | 10kB 21.2MB/s eta 0:00:01\r",
      "\u001b[K     |██████▎                         | 20kB 3.1MB/s eta 0:00:01\r",
      "\u001b[K     |█████████▌                      | 30kB 3.8MB/s eta 0:00:01\r",
      "\u001b[K     |████████████▋                   | 40kB 2.9MB/s eta 0:00:01\r",
      "\u001b[K     |███████████████▉                | 51kB 3.3MB/s eta 0:00:01\r",
      "\u001b[K     |███████████████████             | 61kB 3.9MB/s eta 0:00:01\r",
      "\u001b[K     |██████████████████████▏         | 71kB 4.1MB/s eta 0:00:01\r",
      "\u001b[K     |█████████████████████████▎      | 81kB 3.9MB/s eta 0:00:01\r",
      "\u001b[K     |████████████████████████████▍   | 92kB 4.4MB/s eta 0:00:01\r",
      "\u001b[K     |███████████████████████████████▋| 102kB 4.8MB/s eta 0:00:01\r",
      "\u001b[K     |████████████████████████████████| 112kB 4.8MB/s \n",
      "\u001b[?25hRequirement already satisfied: google-api-python-client>=1.5.5 in /usr/local/lib/python3.6/dist-packages (from pygsheets) (1.7.12)\n",
      "Requirement already satisfied: google-auth-oauthlib in /usr/local/lib/python3.6/dist-packages (from pygsheets) (0.4.1)\n",
      "Requirement already satisfied: oauth2client in /usr/local/lib/python3.6/dist-packages (from pygsheets) (4.1.3)\n",
      "Requirement already satisfied: six<2dev,>=1.6.1 in /usr/local/lib/python3.6/dist-packages (from google-api-python-client>=1.5.5->pygsheets) (1.12.0)\n",
      "Requirement already satisfied: uritemplate<4dev,>=3.0.0 in /usr/local/lib/python3.6/dist-packages (from google-api-python-client>=1.5.5->pygsheets) (3.0.1)\n",
      "Requirement already satisfied: httplib2<1dev,>=0.17.0 in /usr/local/lib/python3.6/dist-packages (from google-api-python-client>=1.5.5->pygsheets) (0.17.3)\n",
      "Requirement already satisfied: google-auth>=1.4.1 in /usr/local/lib/python3.6/dist-packages (from google-api-python-client>=1.5.5->pygsheets) (1.7.2)\n",
      "Requirement already satisfied: google-auth-httplib2>=0.0.3 in /usr/local/lib/python3.6/dist-packages (from google-api-python-client>=1.5.5->pygsheets) (0.0.3)\n",
      "Requirement already satisfied: requests-oauthlib>=0.7.0 in /usr/local/lib/python3.6/dist-packages (from google-auth-oauthlib->pygsheets) (1.3.0)\n",
      "Requirement already satisfied: pyasn1-modules>=0.0.5 in /usr/local/lib/python3.6/dist-packages (from oauth2client->pygsheets) (0.2.8)\n",
      "Requirement already satisfied: pyasn1>=0.1.7 in /usr/local/lib/python3.6/dist-packages (from oauth2client->pygsheets) (0.4.8)\n",
      "Requirement already satisfied: rsa>=3.1.4 in /usr/local/lib/python3.6/dist-packages (from oauth2client->pygsheets) (4.0)\n",
      "Requirement already satisfied: cachetools<3.2,>=2.0.0 in /usr/local/lib/python3.6/dist-packages (from google-auth>=1.4.1->google-api-python-client>=1.5.5->pygsheets) (3.1.1)\n",
      "Requirement already satisfied: setuptools>=40.3.0 in /usr/local/lib/python3.6/dist-packages (from google-auth>=1.4.1->google-api-python-client>=1.5.5->pygsheets) (46.1.3)\n",
      "Requirement already satisfied: oauthlib>=3.0.0 in /usr/local/lib/python3.6/dist-packages (from requests-oauthlib>=0.7.0->google-auth-oauthlib->pygsheets) (3.1.0)\n",
      "Requirement already satisfied: requests>=2.0.0 in /usr/local/lib/python3.6/dist-packages (from requests-oauthlib>=0.7.0->google-auth-oauthlib->pygsheets) (2.23.0)\n",
      "Requirement already satisfied: idna<3,>=2.5 in /usr/local/lib/python3.6/dist-packages (from requests>=2.0.0->requests-oauthlib>=0.7.0->google-auth-oauthlib->pygsheets) (2.9)\n",
      "Requirement already satisfied: chardet<4,>=3.0.2 in /usr/local/lib/python3.6/dist-packages (from requests>=2.0.0->requests-oauthlib>=0.7.0->google-auth-oauthlib->pygsheets) (3.0.4)\n",
      "Requirement already satisfied: certifi>=2017.4.17 in /usr/local/lib/python3.6/dist-packages (from requests>=2.0.0->requests-oauthlib>=0.7.0->google-auth-oauthlib->pygsheets) (2020.4.5.1)\n",
      "Requirement already satisfied: urllib3!=1.25.0,!=1.25.1,<1.26,>=1.21.1 in /usr/local/lib/python3.6/dist-packages (from requests>=2.0.0->requests-oauthlib>=0.7.0->google-auth-oauthlib->pygsheets) (1.24.3)\n",
      "Installing collected packages: pygsheets\n",
      "Successfully installed pygsheets-2.0.3.1\n",
      "Collecting clean-text[gpl]\n",
      "  Downloading https://files.pythonhosted.org/packages/23/98/2650271bc1052002ad7e61595f7a44ff24f6bb4eb24d9c0e42e92c991708/clean_text-0.1.1-py3-none-any.whl\n",
      "Collecting ftfy\n",
      "\u001b[?25l  Downloading https://files.pythonhosted.org/packages/ec/d8/5e877ac5e827eaa41a7ea8c0dc1d3042e05d7e337604dc2aedb854e7b500/ftfy-5.7.tar.gz (58kB)\n",
      "\u001b[K     |████████████████████████████████| 61kB 4.1MB/s \n",
      "\u001b[?25hCollecting unidecode; extra == \"gpl\"\n",
      "\u001b[?25l  Downloading https://files.pythonhosted.org/packages/d0/42/d9edfed04228bacea2d824904cae367ee9efd05e6cce7ceaaedd0b0ad964/Unidecode-1.1.1-py2.py3-none-any.whl (238kB)\n",
      "\u001b[K     |████████████████████████████████| 245kB 16.0MB/s \n",
      "\u001b[?25hRequirement already satisfied: wcwidth in /usr/local/lib/python3.6/dist-packages (from ftfy->clean-text[gpl]) (0.1.9)\n",
      "Building wheels for collected packages: ftfy\n",
      "  Building wheel for ftfy (setup.py) ... \u001b[?25l\u001b[?25hdone\n",
      "  Created wheel for ftfy: filename=ftfy-5.7-cp36-none-any.whl size=44593 sha256=ff1acc93f1f0dbf92fc810cb7e02682b49fb8b81007ef9c11902c1c8bff85a68\n",
      "  Stored in directory: /root/.cache/pip/wheels/8e/da/59/6c8925d571aacade638a0f515960c21c0887af1bfe31908fbf\n",
      "Successfully built ftfy\n",
      "Installing collected packages: ftfy, unidecode, clean-text\n",
      "Successfully installed clean-text-0.1.1 ftfy-5.7 unidecode-1.1.1\n"
     ]
    }
   ],
   "source": [
    "!pip install pygsheets\n",
    "!pip install --upgrade -q pygsheets\n",
    "!pip install clean-text[gpl]"
   ]
  },
  {
   "cell_type": "code",
   "execution_count": 2,
   "metadata": {
    "colab": {
     "base_uri": "https://localhost:8080/",
     "height": 0
    },
    "colab_type": "code",
    "collapsed": true,
    "executionInfo": {
     "elapsed": 20994,
     "status": "ok",
     "timestamp": 1588587203943,
     "user": {
      "displayName": "Aude Vuilli",
      "photoUrl": "https://lh3.googleusercontent.com/a-/AOh14GiUkfbdAwPvNUHQL1AZAFfU9TjovFaEcEH05Kmz=s64",
      "userId": "08053235329720588301"
     },
     "user_tz": -60
    },
    "id": "PRaKWy4-Ylss",
    "outputId": "b2c0bcd0-da83-421d-910a-2cf29620b92f"
   },
   "outputs": [
    {
     "name": "stdout",
     "output_type": "stream",
     "text": [
      "Collecting geopandas\n",
      "\u001b[?25l  Downloading https://files.pythonhosted.org/packages/83/c5/3cf9cdc39a6f2552922f79915f36b45a95b71fd343cfc51170a5b6ddb6e8/geopandas-0.7.0-py2.py3-none-any.whl (928kB)\n",
      "\u001b[K     |████████████████████████████████| 931kB 4.9MB/s \n",
      "\u001b[?25hRequirement already satisfied: shapely in /usr/local/lib/python3.6/dist-packages (from geopandas) (1.7.0)\n",
      "Requirement already satisfied: pandas>=0.23.0 in /usr/local/lib/python3.6/dist-packages (from geopandas) (1.0.3)\n",
      "Collecting pyproj>=2.2.0\n",
      "\u001b[?25l  Downloading https://files.pythonhosted.org/packages/a5/70/d58a104357de4ab7bcff67522ec4f139c6d7955472b55b751e6b4bc1bcea/pyproj-2.6.1-cp36-cp36m-manylinux2010_x86_64.whl (10.9MB)\n",
      "\u001b[K     |████████████████████████████████| 10.9MB 30.0MB/s \n",
      "\u001b[?25hCollecting fiona\n",
      "\u001b[?25l  Downloading https://files.pythonhosted.org/packages/ec/20/4e63bc5c6e62df889297b382c3ccd4a7a488b00946aaaf81a118158c6f09/Fiona-1.8.13.post1-cp36-cp36m-manylinux1_x86_64.whl (14.7MB)\n",
      "\u001b[K     |████████████████████████████████| 14.7MB 250kB/s \n",
      "\u001b[?25hRequirement already satisfied: pytz>=2017.2 in /usr/local/lib/python3.6/dist-packages (from pandas>=0.23.0->geopandas) (2018.9)\n",
      "Requirement already satisfied: numpy>=1.13.3 in /usr/local/lib/python3.6/dist-packages (from pandas>=0.23.0->geopandas) (1.18.3)\n",
      "Requirement already satisfied: python-dateutil>=2.6.1 in /usr/local/lib/python3.6/dist-packages (from pandas>=0.23.0->geopandas) (2.8.1)\n",
      "Requirement already satisfied: six>=1.7 in /usr/local/lib/python3.6/dist-packages (from fiona->geopandas) (1.12.0)\n",
      "Requirement already satisfied: click<8,>=4.0 in /usr/local/lib/python3.6/dist-packages (from fiona->geopandas) (7.1.2)\n",
      "Collecting cligj>=0.5\n",
      "  Downloading https://files.pythonhosted.org/packages/e4/be/30a58b4b0733850280d01f8bd132591b4668ed5c7046761098d665ac2174/cligj-0.5.0-py3-none-any.whl\n",
      "Collecting click-plugins>=1.0\n",
      "  Downloading https://files.pythonhosted.org/packages/e9/da/824b92d9942f4e472702488857914bdd50f73021efea15b4cad9aca8ecef/click_plugins-1.1.1-py2.py3-none-any.whl\n",
      "Collecting munch\n",
      "  Downloading https://files.pythonhosted.org/packages/cc/ab/85d8da5c9a45e072301beb37ad7f833cd344e04c817d97e0cc75681d248f/munch-2.5.0-py2.py3-none-any.whl\n",
      "Requirement already satisfied: attrs>=17 in /usr/local/lib/python3.6/dist-packages (from fiona->geopandas) (19.3.0)\n",
      "Installing collected packages: pyproj, cligj, click-plugins, munch, fiona, geopandas\n",
      "Successfully installed click-plugins-1.1.1 cligj-0.5.0 fiona-1.8.13.post1 geopandas-0.7.0 munch-2.5.0 pyproj-2.6.1\n"
     ]
    }
   ],
   "source": [
    "!pip install geopandas"
   ]
  },
  {
   "cell_type": "code",
   "execution_count": 1,
   "metadata": {
    "colab": {
     "base_uri": "https://localhost:8080/",
     "height": 0
    },
    "colab_type": "code",
    "executionInfo": {
     "elapsed": 1453,
     "status": "ok",
     "timestamp": 1588587205402,
     "user": {
      "displayName": "Aude Vuilli",
      "photoUrl": "https://lh3.googleusercontent.com/a-/AOh14GiUkfbdAwPvNUHQL1AZAFfU9TjovFaEcEH05Kmz=s64",
      "userId": "08053235329720588301"
     },
     "user_tz": -60
    },
    "id": "K3v1GVLbYXj8",
    "outputId": "b161f1b0-3432-4052-ba9d-ddbf75abd05a"
   },
   "outputs": [],
   "source": [
    "# import the necessary library\n",
    "import pandas as pd\n",
    "import geopandas as gpd\n",
    "from shapely import wkt\n",
    "import numpy as np \n",
    "import os\n",
    "import ast\n",
    "\n",
    "from datetime import datetime\n",
    "import re\n",
    "import string\n",
    "from pprint import pprint\n",
    "from cleantext import clean\n",
    "\n",
    "import seaborn as sns\n",
    "import matplotlib.pyplot as plt\n",
    "\n",
    "import pygsheets\n",
    "\n",
    "import warnings\n",
    "warnings.filterwarnings(\"ignore\")\n",
    "\n",
    "pd.options.display.max_columns = 400 # this will set limit of columns to 500\n",
    "pd.options.display.max_rows = 400 # this will set limit of columns to 500\n",
    "\n",
    "# pd.options.display.max_colwidth\n",
    "#pd.options.display.max_colwidth = 100\n",
    "pd.options.display.max_colwidth = 200"
   ]
  },
  {
   "cell_type": "markdown",
   "metadata": {
    "colab_type": "text",
    "id": "vc9hNIXrYtCF"
   },
   "source": [
    "#### Authentification Google"
   ]
  },
  {
   "cell_type": "code",
   "execution_count": 4,
   "metadata": {
    "colab": {
     "base_uri": "https://localhost:8080/",
     "height": 120
    },
    "colab_type": "code",
    "executionInfo": {
     "elapsed": 22600,
     "status": "ok",
     "timestamp": 1588587226558,
     "user": {
      "displayName": "Aude Vuilli",
      "photoUrl": "https://lh3.googleusercontent.com/a-/AOh14GiUkfbdAwPvNUHQL1AZAFfU9TjovFaEcEH05Kmz=s64",
      "userId": "08053235329720588301"
     },
     "user_tz": -60
    },
    "id": "R9ptl8CtYvlO",
    "outputId": "44ada2dd-f1d9-4bb5-d662-2b09acba8850"
   },
   "outputs": [
    {
     "name": "stdout",
     "output_type": "stream",
     "text": [
      "Go to this URL in a browser: https://accounts.google.com/o/oauth2/auth?client_id=947318989803-6bn6qk8qdgf4n4g3pfee6491hc0brc4i.apps.googleusercontent.com&redirect_uri=urn%3aietf%3awg%3aoauth%3a2.0%3aoob&response_type=code&scope=email%20https%3a%2f%2fwww.googleapis.com%2fauth%2fdocs.test%20https%3a%2f%2fwww.googleapis.com%2fauth%2fdrive%20https%3a%2f%2fwww.googleapis.com%2fauth%2fdrive.photos.readonly%20https%3a%2f%2fwww.googleapis.com%2fauth%2fpeopleapi.readonly\n",
      "\n",
      "Enter your authorization code:\n",
      "··········\n",
      "Mounted at /content/drive\n"
     ]
    }
   ],
   "source": [
    "from google.colab import drive\n",
    "drive.mount('/content/drive')"
   ]
  },
  {
   "cell_type": "code",
   "execution_count": 0,
   "metadata": {
    "colab": {},
    "colab_type": "code",
    "id": "5RGkLd-5YykO"
   },
   "outputs": [],
   "source": [
    "# Authentification with google drive and colab\n",
    "from google.colab import auth\n",
    "auth.authenticate_user()\n",
    "\n",
    "# Read google sheet\n",
    "import gspread\n",
    "from oauth2client.client import GoogleCredentials\n",
    "gc = gspread.authorize(GoogleCredentials.get_application_default())"
   ]
  },
  {
   "cell_type": "markdown",
   "metadata": {
    "colab_type": "text",
    "id": "mCjC4TBWdjyw"
   },
   "source": [
    "### Data Preparation"
   ]
  },
  {
   "cell_type": "code",
   "execution_count": 6,
   "metadata": {
    "colab": {
     "base_uri": "https://localhost:8080/",
     "height": 186
    },
    "colab_type": "code",
    "executionInfo": {
     "elapsed": 4736,
     "status": "ok",
     "timestamp": 1588587255504,
     "user": {
      "displayName": "Aude Vuilli",
      "photoUrl": "https://lh3.googleusercontent.com/a-/AOh14GiUkfbdAwPvNUHQL1AZAFfU9TjovFaEcEH05Kmz=s64",
      "userId": "08053235329720588301"
     },
     "user_tz": -60
    },
    "id": "Wkp1sVjtmrvd",
    "outputId": "e73069e6-080d-4bf7-dac2-2e5c239a97f0"
   },
   "outputs": [
    {
     "name": "stdout",
     "output_type": "stream",
     "text": [
      "Collecting python-sld\n",
      "  Downloading https://files.pythonhosted.org/packages/ab/81/aa9090666ca5805f2e65afac7869b54133805b083f994d7b777b02eaab77/python-sld-1.0.10.tar.gz\n",
      "Building wheels for collected packages: python-sld\n",
      "  Building wheel for python-sld (setup.py) ... \u001b[?25l\u001b[?25hdone\n",
      "  Created wheel for python-sld: filename=python_sld-1.0.10-cp36-none-any.whl size=17680 sha256=78ae3f36fc104b2d41f2fef80bd9a870765af1a1a986373e7a8c95f6ad052b4b\n",
      "  Stored in directory: /root/.cache/pip/wheels/b4/dc/a1/dae0b3ae19731d403c9ee32ecf25452a37a886ed4ec68d163c\n",
      "Successfully built python-sld\n",
      "Installing collected packages: python-sld\n",
      "Successfully installed python-sld-1.0.10\n"
     ]
    }
   ],
   "source": [
    "!pip install python-sld"
   ]
  },
  {
   "cell_type": "code",
   "execution_count": 0,
   "metadata": {
    "colab": {},
    "colab_type": "code",
    "id": "rhWVohG3d1g4"
   },
   "outputs": [],
   "source": [
    "root_path = 'drive/My Drive/Personal Projects/2020/Sport_CASA/sport/data/'  "
   ]
  },
  {
   "cell_type": "code",
   "execution_count": 0,
   "metadata": {
    "colab": {},
    "colab_type": "code",
    "id": "Xnv1hSzw_9tT"
   },
   "outputs": [],
   "source": [
    "project_id = 'nature-casa'\n",
    "!gcloud config set project {project_id}"
   ]
  },
  {
   "cell_type": "markdown",
   "metadata": {
    "colab_type": "text",
    "id": "_degHMfodo8H"
   },
   "source": [
    "### Step0 - Read the Geo Boundaries (Canton Vaud, CH)\n",
    "\n",
    "- Data source: https://www.asitvd.ch/index.php?option=com_easysdi_catalog&view=sheet&guid=196&catalog=main&type=complete&preview=search_list&tmpl=component\n",
    "\n"
   ]
  },
  {
   "cell_type": "markdown",
   "metadata": {
    "colab_type": "text",
    "id": "7VEq9ix15oHL"
   },
   "source": [
    "#### open shapefile in geopandas dataframe"
   ]
  },
  {
   "cell_type": "code",
   "execution_count": 0,
   "metadata": {
    "colab": {},
    "colab_type": "code",
    "id": "DpJS1s6_doaP"
   },
   "outputs": [],
   "source": [
    "path_lake = 'GeoBoundaries_Vaud/SHP/MN03/MN03_OIT_TPR_LAD_GEN_LAC.shp'\n",
    "path_district = 'GeoBoundaries_Vaud/SHP/MN03/MN03_OIT_TPR_LAD_GEN_DISTRICT.shp'\n",
    "path_commune = 'GeoBoundaries_Vaud/SHP/MN03/MN03_OIT_TPR_LAD_GEN_COMMUNE.shp'"
   ]
  },
  {
   "cell_type": "code",
   "execution_count": 4,
   "metadata": {},
   "outputs": [],
   "source": [
    "path_lake = '../data/GeoBoundaries_Vaud/SHP/MN03/MN03_OIT_TPR_LAD_GEN_LAC.shp'\n",
    "path_district = '../data/GeoBoundaries_Vaud/SHP/MN03/MN03_OIT_TPR_LAD_GEN_DISTRICT.shp'\n",
    "path_commune = '../data/GeoBoundaries_Vaud/SHP/MN03/MN03_OIT_TPR_LAD_GEN_COMMUNE.shp'"
   ]
  },
  {
   "cell_type": "code",
   "execution_count": 5,
   "metadata": {},
   "outputs": [],
   "source": [
    "gdf_lake = gpd.read_file(path_lake)\n",
    "gdf_dis = gpd.read_file(path_district)\n",
    "gdf_com = gpd.read_file(path_commune)"
   ]
  },
  {
   "cell_type": "code",
   "execution_count": 0,
   "metadata": {
    "colab": {},
    "colab_type": "code",
    "id": "l2BeS9Z0eVB9"
   },
   "outputs": [],
   "source": [
    "gdf_lake = gpd.read_file(root_path+path_lake)\n",
    "gdf_dis = gpd.read_file(root_path+path_district)\n",
    "gdf_com = gpd.read_file(root_path+path_commune)"
   ]
  },
  {
   "cell_type": "code",
   "execution_count": 6,
   "metadata": {
    "colab": {
     "base_uri": "https://localhost:8080/",
     "height": 381
    },
    "colab_type": "code",
    "executionInfo": {
     "elapsed": 680,
     "status": "ok",
     "timestamp": 1588587936153,
     "user": {
      "displayName": "Aude Vuilli",
      "photoUrl": "https://lh3.googleusercontent.com/a-/AOh14GiUkfbdAwPvNUHQL1AZAFfU9TjovFaEcEH05Kmz=s64",
      "userId": "08053235329720588301"
     },
     "user_tz": -60
    },
    "id": "2m0IR5Suu0tc",
    "outputId": "0b938773-0686-446e-ce92-5231b2d8dc17"
   },
   "outputs": [
    {
     "data": {
      "text/html": [
       "<div>\n",
       "<style scoped>\n",
       "    .dataframe tbody tr th:only-of-type {\n",
       "        vertical-align: middle;\n",
       "    }\n",
       "\n",
       "    .dataframe tbody tr th {\n",
       "        vertical-align: top;\n",
       "    }\n",
       "\n",
       "    .dataframe thead th {\n",
       "        text-align: right;\n",
       "    }\n",
       "</style>\n",
       "<table border=\"1\" class=\"dataframe\">\n",
       "  <thead>\n",
       "    <tr style=\"text-align: right;\">\n",
       "      <th></th>\n",
       "      <th>OBJECTID</th>\n",
       "      <th>SHAPE_AREA</th>\n",
       "      <th>SHAPE_LEN</th>\n",
       "      <th>NO_CANTON</th>\n",
       "      <th>NOM_MIN</th>\n",
       "      <th>NOM_MAJ</th>\n",
       "      <th>NO_DIS_FED</th>\n",
       "      <th>NO_COM_FED</th>\n",
       "      <th>NO_COM_CAN</th>\n",
       "      <th>NO_DIS_CAN</th>\n",
       "      <th>geometry</th>\n",
       "    </tr>\n",
       "  </thead>\n",
       "  <tbody>\n",
       "    <tr>\n",
       "      <th>0</th>\n",
       "      <td>7</td>\n",
       "      <td>3.072759e+08</td>\n",
       "      <td>120139.29954</td>\n",
       "      <td>22</td>\n",
       "      <td>Nyon</td>\n",
       "      <td>NYON</td>\n",
       "      <td>2228</td>\n",
       "      <td>None</td>\n",
       "      <td>None</td>\n",
       "      <td>8</td>\n",
       "      <td>POLYGON ((495894.293 144029.486, 496026.931 144174.885, 496093.120 144512.500, 495944.960 144911.180, 495505.790 145243.380, 495190.430 145598.670, 495390.310 146049.460, 495128.690 146308.030, 49...</td>\n",
       "    </tr>\n",
       "  </tbody>\n",
       "</table>\n",
       "</div>"
      ],
      "text/plain": [
       "   OBJECTID    SHAPE_AREA     SHAPE_LEN  NO_CANTON NOM_MIN NOM_MAJ  \\\n",
       "0         7  3.072759e+08  120139.29954         22    Nyon    NYON   \n",
       "\n",
       "   NO_DIS_FED NO_COM_FED NO_COM_CAN  NO_DIS_CAN  \\\n",
       "0        2228       None       None           8   \n",
       "\n",
       "                                                                                                                                                                                                  geometry  \n",
       "0  POLYGON ((495894.293 144029.486, 496026.931 144174.885, 496093.120 144512.500, 495944.960 144911.180, 495505.790 145243.380, 495190.430 145598.670, 495390.310 146049.460, 495128.690 146308.030, 49...  "
      ]
     },
     "execution_count": 6,
     "metadata": {},
     "output_type": "execute_result"
    }
   ],
   "source": [
    "gdf_dis.head(1)"
   ]
  },
  {
   "cell_type": "code",
   "execution_count": 16,
   "metadata": {
    "colab": {
     "base_uri": "https://localhost:8080/",
     "height": 66
    },
    "colab_type": "code",
    "executionInfo": {
     "elapsed": 761,
     "status": "ok",
     "timestamp": 1588587968943,
     "user": {
      "displayName": "Aude Vuilli",
      "photoUrl": "https://lh3.googleusercontent.com/a-/AOh14GiUkfbdAwPvNUHQL1AZAFfU9TjovFaEcEH05Kmz=s64",
      "userId": "08053235329720588301"
     },
     "user_tz": -60
    },
    "id": "bDoB-R1XOHbb",
    "outputId": "32c04de3-1621-4199-ddc7-8cd72937fc9f"
   },
   "outputs": [
    {
     "data": {
      "text/plain": [
       "array(['Nyon', 'Jura-Nord vaudois', 'Lavaux-Oron', 'Aigle', 'Lausanne',\n",
       "       'Broye-Vully', \"Riviera-Pays d'Enhaut\", 'Ouest lausannois',\n",
       "       'Morges', 'Gros-de-Vaud'], dtype=object)"
      ]
     },
     "execution_count": 16,
     "metadata": {
      "tags": []
     },
     "output_type": "execute_result"
    }
   ],
   "source": [
    "gdf_dis.NOM_MIN.unique()"
   ]
  },
  {
   "cell_type": "markdown",
   "metadata": {
    "colab_type": "text",
    "id": "37m6ZVPAOVAd"
   },
   "source": [
    "##### Visualize the Shapefile"
   ]
  },
  {
   "cell_type": "code",
   "execution_count": 7,
   "metadata": {
    "colab": {
     "base_uri": "https://localhost:8080/",
     "height": 281
    },
    "colab_type": "code",
    "executionInfo": {
     "elapsed": 770,
     "status": "ok",
     "timestamp": 1588588032131,
     "user": {
      "displayName": "Aude Vuilli",
      "photoUrl": "https://lh3.googleusercontent.com/a-/AOh14GiUkfbdAwPvNUHQL1AZAFfU9TjovFaEcEH05Kmz=s64",
      "userId": "08053235329720588301"
     },
     "user_tz": -60
    },
    "id": "xve2vRpcOZse",
    "outputId": "2bc96966-3b77-4369-edf3-9a4600707d2e"
   },
   "outputs": [
    {
     "data": {
      "text/plain": [
       "<matplotlib.axes._subplots.AxesSubplot at 0x1a22ea9b70>"
      ]
     },
     "execution_count": 7,
     "metadata": {},
     "output_type": "execute_result"
    },
    {
     "data": {
      "image/png": "[encoded data removed]",
      "text/plain": [
       "<Figure size 432x288 with 1 Axes>"
      ]
     },
     "metadata": {
      "needs_background": "light"
     },
     "output_type": "display_data"
    }
   ],
   "source": [
    "gdf_dis.plot()"
   ]
  },
  {
   "cell_type": "code",
   "execution_count": 19,
   "metadata": {
    "colab": {
     "base_uri": "https://localhost:8080/",
     "height": 281
    },
    "colab_type": "code",
    "executionInfo": {
     "elapsed": 789,
     "status": "ok",
     "timestamp": 1588588042975,
     "user": {
      "displayName": "Aude Vuilli",
      "photoUrl": "https://lh3.googleusercontent.com/a-/AOh14GiUkfbdAwPvNUHQL1AZAFfU9TjovFaEcEH05Kmz=s64",
      "userId": "08053235329720588301"
     },
     "user_tz": -60
    },
    "id": "7zIFLwqGOblP",
    "outputId": "b659aa52-918b-4c8b-d3bb-e95a079f7ead"
   },
   "outputs": [
    {
     "data": {
      "text/plain": [
       "<matplotlib.axes._subplots.AxesSubplot at 0x7f0c378b37f0>"
      ]
     },
     "execution_count": 19,
     "metadata": {
      "tags": []
     },
     "output_type": "execute_result"
    },
    {
     "data": {
      "image/png": "[encoded data removed]",
      "text/plain": [
       "<Figure size 432x288 with 1 Axes>"
      ]
     },
     "metadata": {
      "needs_background": "light",
      "tags": []
     },
     "output_type": "display_data"
    }
   ],
   "source": [
    "gdf_com.plot()"
   ]
  },
  {
   "cell_type": "code",
   "execution_count": 20,
   "metadata": {
    "colab": {
     "base_uri": "https://localhost:8080/",
     "height": 281
    },
    "colab_type": "code",
    "executionInfo": {
     "elapsed": 573,
     "status": "ok",
     "timestamp": 1588588054927,
     "user": {
      "displayName": "Aude Vuilli",
      "photoUrl": "https://lh3.googleusercontent.com/a-/AOh14GiUkfbdAwPvNUHQL1AZAFfU9TjovFaEcEH05Kmz=s64",
      "userId": "08053235329720588301"
     },
     "user_tz": -60
    },
    "id": "qDk-JG_FOeY4",
    "outputId": "2885d6df-a0e2-4b7d-b46a-f88d641dca7a"
   },
   "outputs": [
    {
     "data": {
      "text/plain": [
       "<matplotlib.axes._subplots.AxesSubplot at 0x7f0c37452668>"
      ]
     },
     "execution_count": 20,
     "metadata": {
      "tags": []
     },
     "output_type": "execute_result"
    },
    {
     "data": {
      "image/png": "[encoded data removed]",
      "text/plain": [
       "<Figure size 432x288 with 1 Axes>"
      ]
     },
     "metadata": {
      "needs_background": "light",
      "tags": []
     },
     "output_type": "display_data"
    }
   ],
   "source": [
    "gdf_lake.plot()"
   ]
  },
  {
   "cell_type": "markdown",
   "metadata": {
    "colab_type": "text",
    "id": "z7YmFhAwPged"
   },
   "source": [
    "##### Set the CRS - WGS84 (EPSG:4326)"
   ]
  },
  {
   "cell_type": "code",
   "execution_count": 8,
   "metadata": {
    "colab": {},
    "colab_type": "code",
    "id": "64gZZLW8PfmN"
   },
   "outputs": [],
   "source": [
    "gdf_dis = gdf_dis.to_crs(epsg=4326)\n",
    "gdf_com = gdf_com.to_crs(epsg=4326)\n",
    "gdf_lake = gdf_lake.to_crs(epsg=4326)"
   ]
  },
  {
   "cell_type": "code",
   "execution_count": 9,
   "metadata": {
    "colab": {
     "base_uri": "https://localhost:8080/",
     "height": 200
    },
    "colab_type": "code",
    "executionInfo": {
     "elapsed": 552,
     "status": "ok",
     "timestamp": 1588589125035,
     "user": {
      "displayName": "Aude Vuilli",
      "photoUrl": "https://lh3.googleusercontent.com/a-/AOh14GiUkfbdAwPvNUHQL1AZAFfU9TjovFaEcEH05Kmz=s64",
      "userId": "08053235329720588301"
     },
     "user_tz": -60
    },
    "id": "Rsq3XEp5RbVS",
    "outputId": "234ce1ee-dd09-4ee7-f578-6144f99a1154"
   },
   "outputs": [
    {
     "data": {
      "text/plain": [
       "<Geographic 2D CRS: EPSG:4326>\n",
       "Name: WGS 84\n",
       "Axis Info [ellipsoidal]:\n",
       "- Lat[north]: Geodetic latitude (degree)\n",
       "- Lon[east]: Geodetic longitude (degree)\n",
       "Area of Use:\n",
       "- name: World\n",
       "- bounds: (-180.0, -90.0, 180.0, 90.0)\n",
       "Datum: World Geodetic System 1984\n",
       "- Ellipsoid: WGS 84\n",
       "- Prime Meridian: Greenwich"
      ]
     },
     "execution_count": 9,
     "metadata": {},
     "output_type": "execute_result"
    }
   ],
   "source": [
    "gdf_com.crs"
   ]
  },
  {
   "cell_type": "markdown",
   "metadata": {
    "colab_type": "text",
    "id": "tqQ4eIwoOmtO"
   },
   "source": [
    "##### Select Commmune\n",
    "- select the commune of Lausanne2020 venues\n",
    "- read the venues geojson\n",
    "- find in which commune the venues belong (merge pd)"
   ]
  },
  {
   "cell_type": "code",
   "execution_count": 0,
   "metadata": {
    "colab": {},
    "colab_type": "code",
    "id": "gyBXuLihSwgS"
   },
   "outputs": [],
   "source": [
    "gdf_com.NOM_MIN.unique()"
   ]
  },
  {
   "cell_type": "code",
   "execution_count": 40,
   "metadata": {
    "colab": {
     "base_uri": "https://localhost:8080/",
     "height": 66
    },
    "colab_type": "code",
    "executionInfo": {
     "elapsed": 412,
     "status": "ok",
     "timestamp": 1588589274218,
     "user": {
      "displayName": "Aude Vuilli",
      "photoUrl": "https://lh3.googleusercontent.com/a-/AOh14GiUkfbdAwPvNUHQL1AZAFfU9TjovFaEcEH05Kmz=s64",
      "userId": "08053235329720588301"
     },
     "user_tz": -60
    },
    "id": "nMtVRmdCTIgX",
    "outputId": "53290925-887b-4135-da76-3f6a4131c19c"
   },
   "outputs": [
    {
     "data": {
      "text/plain": [
       "array(['Lausanne', 'Les Diablerets', 'Leysin', 'Villars',\n",
       "       'Vallée de Joux ', 'Les Tuffes', 'Champéry', 'St. Moritz'],\n",
       "      dtype=object)"
      ]
     },
     "execution_count": 40,
     "metadata": {
      "tags": []
     },
     "output_type": "execute_result"
    }
   ],
   "source": [
    "gdf_venues.venues.unique()"
   ]
  },
  {
   "cell_type": "code",
   "execution_count": 10,
   "metadata": {},
   "outputs": [],
   "source": [
    "path_venues = '../data/lausanne2020_venues.geojson'\n",
    "gdf_venues = gpd.read_file(path_venues)"
   ]
  },
  {
   "cell_type": "code",
   "execution_count": 0,
   "metadata": {
    "colab": {},
    "colab_type": "code",
    "id": "ZmScKd_OO35X"
   },
   "outputs": [],
   "source": [
    "path_venues = 'lausanne2020_venues.geojson'\n",
    "gdf_venues = gpd.read_file(root_path+path_venues)"
   ]
  },
  {
   "cell_type": "code",
   "execution_count": 31,
   "metadata": {
    "colab": {
     "base_uri": "https://localhost:8080/",
     "height": 137
    },
    "colab_type": "code",
    "executionInfo": {
     "elapsed": 521,
     "status": "ok",
     "timestamp": 1588588248389,
     "user": {
      "displayName": "Aude Vuilli",
      "photoUrl": "https://lh3.googleusercontent.com/a-/AOh14GiUkfbdAwPvNUHQL1AZAFfU9TjovFaEcEH05Kmz=s64",
      "userId": "08053235329720588301"
     },
     "user_tz": -60
    },
    "id": "oiR8JtNDPOMu",
    "outputId": "82620c0c-7d27-4e2b-be90-7cd6e76e0e9c",
    "scrolled": true
   },
   "outputs": [
    {
     "name": "stdout",
     "output_type": "stream",
     "text": [
      "Number of Venues: 8\n"
     ]
    },
    {
     "data": {
      "text/html": [
       "<div>\n",
       "<style scoped>\n",
       "    .dataframe tbody tr th:only-of-type {\n",
       "        vertical-align: middle;\n",
       "    }\n",
       "\n",
       "    .dataframe tbody tr th {\n",
       "        vertical-align: top;\n",
       "    }\n",
       "\n",
       "    .dataframe thead th {\n",
       "        text-align: right;\n",
       "    }\n",
       "</style>\n",
       "<table border=\"1\" class=\"dataframe\">\n",
       "  <thead>\n",
       "    <tr style=\"text-align: right;\">\n",
       "      <th></th>\n",
       "      <th>venues</th>\n",
       "      <th>geometry</th>\n",
       "    </tr>\n",
       "  </thead>\n",
       "  <tbody>\n",
       "    <tr>\n",
       "      <th>0</th>\n",
       "      <td>Lausanne</td>\n",
       "      <td>POINT (6.63227 46.51965)</td>\n",
       "    </tr>\n",
       "    <tr>\n",
       "      <th>1</th>\n",
       "      <td>Les Diablerets</td>\n",
       "      <td>POINT (7.15806 46.35139)</td>\n",
       "    </tr>\n",
       "    <tr>\n",
       "      <th>2</th>\n",
       "      <td>Leysin</td>\n",
       "      <td>POINT (7.01203 46.34356)</td>\n",
       "    </tr>\n",
       "  </tbody>\n",
       "</table>\n",
       "</div>"
      ],
      "text/plain": [
       "           venues                  geometry\n",
       "0        Lausanne  POINT (6.63227 46.51965)\n",
       "1  Les Diablerets  POINT (7.15806 46.35139)\n",
       "2          Leysin  POINT (7.01203 46.34356)"
      ]
     },
     "execution_count": 31,
     "metadata": {},
     "output_type": "execute_result"
    }
   ],
   "source": [
    "print('Number of Venues: '+str(len(gdf_venues)))\n",
    "gdf_venues.head(3)"
   ]
  },
  {
   "cell_type": "markdown",
   "metadata": {
    "colab_type": "text",
    "id": "xcDJg0Myq28s"
   },
   "source": [
    "##### Select only the district that have a venue (Point in Polygon)"
   ]
  },
  {
   "cell_type": "code",
   "execution_count": 32,
   "metadata": {
    "colab": {
     "base_uri": "https://localhost:8080/",
     "height": 157
    },
    "colab_type": "code",
    "executionInfo": {
     "elapsed": 835,
     "status": "ok",
     "timestamp": 1587222212435,
     "user": {
      "displayName": "Aude Vuilli",
      "photoUrl": "https://lh3.googleusercontent.com/a-/AOh14GiUkfbdAwPvNUHQL1AZAFfU9TjovFaEcEH05Kmz=s64",
      "userId": "08053235329720588301"
     },
     "user_tz": -60
    },
    "id": "0FvjZCbWqb4s",
    "outputId": "9bdff324-2c7b-4a5e-85f7-c0d4d3a92d20"
   },
   "outputs": [
    {
     "name": "stdout",
     "output_type": "stream",
     "text": [
      "Number of Venues Matching: 5\n"
     ]
    },
    {
     "data": {
      "text/html": [
       "<div>\n",
       "<style scoped>\n",
       "    .dataframe tbody tr th:only-of-type {\n",
       "        vertical-align: middle;\n",
       "    }\n",
       "\n",
       "    .dataframe tbody tr th {\n",
       "        vertical-align: top;\n",
       "    }\n",
       "\n",
       "    .dataframe thead th {\n",
       "        text-align: right;\n",
       "    }\n",
       "</style>\n",
       "<table border=\"1\" class=\"dataframe\">\n",
       "  <thead>\n",
       "    <tr style=\"text-align: right;\">\n",
       "      <th></th>\n",
       "      <th>OBJECTID</th>\n",
       "      <th>SHAPE_AREA</th>\n",
       "      <th>SHAPE_LEN</th>\n",
       "      <th>NO_CANTON</th>\n",
       "      <th>NOM_MIN</th>\n",
       "      <th>NOM_MAJ</th>\n",
       "      <th>NO_DIS_FED</th>\n",
       "      <th>NO_COM_FED</th>\n",
       "      <th>NO_COM_CAN</th>\n",
       "      <th>NO_DIS_CAN</th>\n",
       "      <th>geometry</th>\n",
       "      <th>index_right</th>\n",
       "      <th>venues</th>\n",
       "    </tr>\n",
       "  </thead>\n",
       "  <tbody>\n",
       "    <tr>\n",
       "      <th>98</th>\n",
       "      <td>152</td>\n",
       "      <td>5.957599e+07</td>\n",
       "      <td>44563.707428</td>\n",
       "      <td>22</td>\n",
       "      <td>Ollon</td>\n",
       "      <td>OLLON</td>\n",
       "      <td>2221</td>\n",
       "      <td>5409</td>\n",
       "      <td>9</td>\n",
       "      <td>1</td>\n",
       "      <td>POLYGON ((7.14664 46.30466, 7.14314 46.30574, 7.13940 46.30764, 7.13795 46.30744, 7.13323 46.30795, 7.13241 46.30829, 7.13044 46.30835, 7.12978 46.30872, 7.12854 46.30861, 7.12752 46.30915, 7.1248...</td>\n",
       "      <td>3</td>\n",
       "      <td>Villars</td>\n",
       "    </tr>\n",
       "  </tbody>\n",
       "</table>\n",
       "</div>"
      ],
      "text/plain": [
       "    OBJECTID    SHAPE_AREA     SHAPE_LEN  NO_CANTON NOM_MIN NOM_MAJ  \\\n",
       "98       152  5.957599e+07  44563.707428         22   Ollon   OLLON   \n",
       "\n",
       "    NO_DIS_FED  NO_COM_FED  NO_COM_CAN  NO_DIS_CAN  \\\n",
       "98        2221        5409           9           1   \n",
       "\n",
       "                                                                                                                                                                                                   geometry  \\\n",
       "98  POLYGON ((7.14664 46.30466, 7.14314 46.30574, 7.13940 46.30764, 7.13795 46.30744, 7.13323 46.30795, 7.13241 46.30829, 7.13044 46.30835, 7.12978 46.30872, 7.12854 46.30861, 7.12752 46.30915, 7.1248...   \n",
       "\n",
       "    index_right   venues  \n",
       "98            3  Villars  "
      ]
     },
     "execution_count": 32,
     "metadata": {},
     "output_type": "execute_result"
    }
   ],
   "source": [
    "gdf_sjoin = gpd.sjoin(gdf_com, gdf_venues, how='inner', op='contains')\n",
    "print('Number of Venues Matching: '+str(len(gdf_sjoin)))\n",
    "gdf_sjoin.head(1)"
   ]
  },
  {
   "cell_type": "code",
   "execution_count": 30,
   "metadata": {},
   "outputs": [
    {
     "data": {
      "text/html": [
       "<div>\n",
       "<style scoped>\n",
       "    .dataframe tbody tr th:only-of-type {\n",
       "        vertical-align: middle;\n",
       "    }\n",
       "\n",
       "    .dataframe tbody tr th {\n",
       "        vertical-align: top;\n",
       "    }\n",
       "\n",
       "    .dataframe thead th {\n",
       "        text-align: right;\n",
       "    }\n",
       "</style>\n",
       "<table border=\"1\" class=\"dataframe\">\n",
       "  <thead>\n",
       "    <tr style=\"text-align: right;\">\n",
       "      <th></th>\n",
       "      <th>NOM_MIN</th>\n",
       "      <th>venues</th>\n",
       "    </tr>\n",
       "  </thead>\n",
       "  <tbody>\n",
       "    <tr>\n",
       "      <th>98</th>\n",
       "      <td>Ollon</td>\n",
       "      <td>Villars</td>\n",
       "    </tr>\n",
       "    <tr>\n",
       "      <th>131</th>\n",
       "      <td>Le Chenit</td>\n",
       "      <td>Vallée de Joux</td>\n",
       "    </tr>\n",
       "    <tr>\n",
       "      <th>152</th>\n",
       "      <td>Ormont-Dessus</td>\n",
       "      <td>Les Diablerets</td>\n",
       "    </tr>\n",
       "    <tr>\n",
       "      <th>299</th>\n",
       "      <td>Leysin</td>\n",
       "      <td>Leysin</td>\n",
       "    </tr>\n",
       "    <tr>\n",
       "      <th>300</th>\n",
       "      <td>Lausanne</td>\n",
       "      <td>Lausanne</td>\n",
       "    </tr>\n",
       "  </tbody>\n",
       "</table>\n",
       "</div>"
      ],
      "text/plain": [
       "           NOM_MIN           venues\n",
       "98           Ollon          Villars\n",
       "131      Le Chenit  Vallée de Joux \n",
       "152  Ormont-Dessus   Les Diablerets\n",
       "299         Leysin           Leysin\n",
       "300       Lausanne         Lausanne"
      ]
     },
     "execution_count": 30,
     "metadata": {},
     "output_type": "execute_result"
    }
   ],
   "source": [
    "gdf_sjoin_sel = gdf_sjoin.loc[:,['NOM_MIN','venues']]\n",
    "gdf_sjoin_sel"
   ]
  },
  {
   "cell_type": "code",
   "execution_count": 53,
   "metadata": {
    "colab": {
     "base_uri": "https://localhost:8080/",
     "height": 447
    },
    "colab_type": "code",
    "collapsed": true,
    "executionInfo": {
     "elapsed": 563,
     "status": "ok",
     "timestamp": 1588589610685,
     "user": {
      "displayName": "Aude Vuilli",
      "photoUrl": "https://lh3.googleusercontent.com/a-/AOh14GiUkfbdAwPvNUHQL1AZAFfU9TjovFaEcEH05Kmz=s64",
      "userId": "08053235329720588301"
     },
     "user_tz": -60
    },
    "id": "lGNlih8QS2t9",
    "outputId": "ef07f1cd-f3c6-4828-bdde-020bd1e98e5d"
   },
   "outputs": [
    {
     "data": {
      "text/html": [
       "<div>\n",
       "<style scoped>\n",
       "    .dataframe tbody tr th:only-of-type {\n",
       "        vertical-align: middle;\n",
       "    }\n",
       "\n",
       "    .dataframe tbody tr th {\n",
       "        vertical-align: top;\n",
       "    }\n",
       "\n",
       "    .dataframe thead th {\n",
       "        text-align: right;\n",
       "    }\n",
       "</style>\n",
       "<table border=\"1\" class=\"dataframe\">\n",
       "  <thead>\n",
       "    <tr style=\"text-align: right;\">\n",
       "      <th></th>\n",
       "      <th>OBJECTID</th>\n",
       "      <th>SHAPE_AREA</th>\n",
       "      <th>SHAPE_LEN</th>\n",
       "      <th>NO_CANTON</th>\n",
       "      <th>NOM_MIN</th>\n",
       "      <th>NOM_MAJ</th>\n",
       "      <th>NO_DIS_FED</th>\n",
       "      <th>NO_COM_FED</th>\n",
       "      <th>NO_COM_CAN</th>\n",
       "      <th>NO_DIS_CAN</th>\n",
       "      <th>geometry</th>\n",
       "    </tr>\n",
       "  </thead>\n",
       "  <tbody>\n",
       "    <tr>\n",
       "      <th>131</th>\n",
       "      <td>118</td>\n",
       "      <td>1.002329e+08</td>\n",
       "      <td>45367.938088</td>\n",
       "      <td>22</td>\n",
       "      <td>Le Chenit</td>\n",
       "      <td>LE CHENIT</td>\n",
       "      <td>2224</td>\n",
       "      <td>5872</td>\n",
       "      <td>140</td>\n",
       "      <td>4</td>\n",
       "      <td>POLYGON ((6.29301 46.58095, 6.28848 46.58118, 6.27529 46.57279, 6.26924 46.56051, 6.26454 46.55998, 6.26196 46.55854, 6.25783 46.55777, 6.25534 46.55655, 6.24990 46.55228, 6.24803 46.55011, 6.2438...</td>\n",
       "    </tr>\n",
       "  </tbody>\n",
       "</table>\n",
       "</div>"
      ],
      "text/plain": [
       "     OBJECTID    SHAPE_AREA     SHAPE_LEN  NO_CANTON    NOM_MIN    NOM_MAJ  \\\n",
       "131       118  1.002329e+08  45367.938088         22  Le Chenit  LE CHENIT   \n",
       "\n",
       "     NO_DIS_FED  NO_COM_FED  NO_COM_CAN  NO_DIS_CAN  \\\n",
       "131        2224        5872         140           4   \n",
       "\n",
       "                                                                                                                                                                                                    geometry  \n",
       "131  POLYGON ((6.29301 46.58095, 6.28848 46.58118, 6.27529 46.57279, 6.26924 46.56051, 6.26454 46.55998, 6.26196 46.55854, 6.25783 46.55777, 6.25534 46.55655, 6.24990 46.55228, 6.24803 46.55011, 6.2438...  "
      ]
     },
     "execution_count": 53,
     "metadata": {
      "tags": []
     },
     "output_type": "execute_result"
    }
   ],
   "source": [
    "gdf_com[gdf_com['NOM_MIN']=='Le Chenit']"
   ]
  },
  {
   "cell_type": "markdown",
   "metadata": {
    "colab_type": "text",
    "id": "WjI8mJJq5thl"
   },
   "source": [
    "#### write gpd in geojson"
   ]
  },
  {
   "cell_type": "code",
   "execution_count": 0,
   "metadata": {
    "colab": {},
    "colab_type": "code",
    "id": "JID8VLi43YBU"
   },
   "outputs": [],
   "source": [
    "## Transform shp into geojson\n",
    "#gdf_osm_name.to_crs(epsg=4326).to_file(root_path+\"osm_london.geojson\", driver='GeoJSON')"
   ]
  },
  {
   "cell_type": "markdown",
   "metadata": {
    "colab_type": "text",
    "id": "ytg9YDSK5xNV"
   },
   "source": [
    "#### overview of gpd "
   ]
  },
  {
   "cell_type": "code",
   "execution_count": 0,
   "metadata": {
    "colab": {
     "base_uri": "https://localhost:8080/",
     "height": 66
    },
    "colab_type": "code",
    "executionInfo": {
     "elapsed": 670,
     "status": "ok",
     "timestamp": 1587137833585,
     "user": {
      "displayName": "Aude Vuilli",
      "photoUrl": "https://lh3.googleusercontent.com/a-/AOh14GiUkfbdAwPvNUHQL1AZAFfU9TjovFaEcEH05Kmz=s64",
      "userId": "08053235329720588301"
     },
     "user_tz": -60
    },
    "id": "CqecASNExCi5",
    "outputId": "5007930e-ece5-43f3-fc98-54cf7bb31a94"
   },
   "outputs": [
    {
     "name": "stdout",
     "output_type": "stream",
     "text": [
      "LandUse unique: ['park' 'forest' 'allotments' 'nature_reserve' 'retail' 'industrial'\n",
      " 'scrub' 'cemetery' 'recreation_ground' 'grass' 'military' 'meadow'\n",
      " 'residential' 'heath' 'farm' 'commercial' 'quarry' 'orchard']\n"
     ]
    }
   ],
   "source": [
    "print('LandUse unique: '+ str(gdf_osm_name.fclass.unique()))"
   ]
  },
  {
   "cell_type": "code",
   "execution_count": 0,
   "metadata": {
    "colab": {
     "base_uri": "https://localhost:8080/",
     "height": 231
    },
    "colab_type": "code",
    "executionInfo": {
     "elapsed": 2400,
     "status": "ok",
     "timestamp": 1587137836575,
     "user": {
      "displayName": "Aude Vuilli",
      "photoUrl": "https://lh3.googleusercontent.com/a-/AOh14GiUkfbdAwPvNUHQL1AZAFfU9TjovFaEcEH05Kmz=s64",
      "userId": "08053235329720588301"
     },
     "user_tz": -60
    },
    "id": "USa96yFovN88",
    "outputId": "e86c7397-15e8-42ab-aeef-ccbeeb6c99b0"
   },
   "outputs": [
    {
     "data": {
      "text/plain": [
       "<matplotlib.axes._subplots.AxesSubplot at 0x7f0f78c8a710>"
      ]
     },
     "execution_count": 14,
     "metadata": {
      "tags": []
     },
     "output_type": "execute_result"
    },
    {
     "data": {
      "image/png": "[encoded data removed]",
      "text/plain": [
       "<Figure size 432x288 with 1 Axes>"
      ]
     },
     "metadata": {
      "needs_background": "light",
      "tags": []
     },
     "output_type": "display_data"
    }
   ],
   "source": [
    "gdf_osm_name.plot()"
   ]
  },
  {
   "cell_type": "code",
   "execution_count": 0,
   "metadata": {
    "colab": {
     "base_uri": "https://localhost:8080/",
     "height": 141
    },
    "colab_type": "code",
    "executionInfo": {
     "elapsed": 768,
     "status": "ok",
     "timestamp": 1587127732500,
     "user": {
      "displayName": "Aude Vuilli",
      "photoUrl": "https://lh3.googleusercontent.com/a-/AOh14GiUkfbdAwPvNUHQL1AZAFfU9TjovFaEcEH05Kmz=s64",
      "userId": "08053235329720588301"
     },
     "user_tz": -60
    },
    "id": "RmVKz_bFgkpO",
    "outputId": "a9122831-6922-449b-eb63-7c8aefc4194c"
   },
   "outputs": [
    {
     "data": {
      "text/html": [
       "<div>\n",
       "<style scoped>\n",
       "    .dataframe tbody tr th:only-of-type {\n",
       "        vertical-align: middle;\n",
       "    }\n",
       "\n",
       "    .dataframe tbody tr th {\n",
       "        vertical-align: top;\n",
       "    }\n",
       "\n",
       "    .dataframe thead th {\n",
       "        text-align: right;\n",
       "    }\n",
       "</style>\n",
       "<table border=\"1\" class=\"dataframe\">\n",
       "  <thead>\n",
       "    <tr style=\"text-align: right;\">\n",
       "      <th></th>\n",
       "      <th>osm_id</th>\n",
       "      <th>code</th>\n",
       "      <th>fclass</th>\n",
       "      <th>name</th>\n",
       "      <th>geometry</th>\n",
       "      <th>city</th>\n",
       "    </tr>\n",
       "  </thead>\n",
       "  <tbody>\n",
       "    <tr>\n",
       "      <th>4</th>\n",
       "      <td>2903398</td>\n",
       "      <td>7202</td>\n",
       "      <td>park</td>\n",
       "      <td>Bush Hill Park</td>\n",
       "      <td>POLYGON ((-0.07064 51.64713, -0.07058 51.64751, -0.07062 51.64866, -0.07001 51.64867, -0.07001 51.64832, -0.06909 51.64832, -0.06909 51.64887, -0.06928 51.65092, -0.06625 51.65027, -0.06572 51.647...</td>\n",
       "      <td>London</td>\n",
       "    </tr>\n",
       "    <tr>\n",
       "      <th>5</th>\n",
       "      <td>2914274</td>\n",
       "      <td>7202</td>\n",
       "      <td>park</td>\n",
       "      <td>Stephens House &amp; Grounds</td>\n",
       "      <td>POLYGON ((-0.19549 51.59656, -0.19545 51.59679, -0.19539 51.59699, -0.19546 51.59700, -0.19541 51.59716, -0.19548 51.59718, -0.19544 51.59732, -0.19524 51.59790, -0.19509 51.59855, -0.19484 51.598...</td>\n",
       "      <td>London</td>\n",
       "    </tr>\n",
       "  </tbody>\n",
       "</table>\n",
       "</div>"
      ],
      "text/plain": [
       "    osm_id  code fclass                      name  \\\n",
       "4  2903398  7202   park            Bush Hill Park   \n",
       "5  2914274  7202   park  Stephens House & Grounds   \n",
       "\n",
       "                                                                                                                                                                                                  geometry  \\\n",
       "4  POLYGON ((-0.07064 51.64713, -0.07058 51.64751, -0.07062 51.64866, -0.07001 51.64867, -0.07001 51.64832, -0.06909 51.64832, -0.06909 51.64887, -0.06928 51.65092, -0.06625 51.65027, -0.06572 51.647...   \n",
       "5  POLYGON ((-0.19549 51.59656, -0.19545 51.59679, -0.19539 51.59699, -0.19546 51.59700, -0.19541 51.59716, -0.19548 51.59718, -0.19544 51.59732, -0.19524 51.59790, -0.19509 51.59855, -0.19484 51.598...   \n",
       "\n",
       "     city  \n",
       "4  London  \n",
       "5  London  "
      ]
     },
     "execution_count": 98,
     "metadata": {
      "tags": []
     },
     "output_type": "execute_result"
    }
   ],
   "source": [
    "# Add London as city name\n",
    "gdf_osm_name['city'] = 'London'\n",
    "gdf_osm_name.head(2)"
   ]
  }
 ],
 "metadata": {
  "colab": {
   "collapsed_sections": [
    "aTL7ZIxrYRUc",
    "vc9hNIXrYtCF",
    "37m6ZVPAOVAd",
    "z7YmFhAwPged"
   ],
   "name": "GitVersion_Lausanne2020_Map.ipynb",
   "provenance": [
    {
     "file_id": "1vHJKSQRAKxvfwzMEVehgBpkgR5IAVolG",
     "timestamp": 1587136605876
    },
    {
     "file_id": "1FiyNLWmCvRMo1-oA6DVsAV_UORtI70BI",
     "timestamp": 1586544322025
    }
   ]
  },
  "kernelspec": {
   "display_name": "Python 3",
   "language": "python",
   "name": "python3"
  },
  "language_info": {
   "codemirror_mode": {
    "name": "ipython",
    "version": 3
   },
   "file_extension": ".py",
   "mimetype": "text/x-python",
   "name": "python",
   "nbconvert_exporter": "python",
   "pygments_lexer": "ipython3",
   "version": "3.7.3"
  }
 },
 "nbformat": 4,
 "nbformat_minor": 1
}
